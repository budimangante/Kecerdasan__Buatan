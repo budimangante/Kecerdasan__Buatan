{
  "nbformat": 4,
  "nbformat_minor": 0,
  "metadata": {
    "colab": {
      "provenance": []
    },
    "kernelspec": {
      "name": "python3",
      "display_name": "Python 3"
    },
    "language_info": {
      "name": "python"
    }
  },
  "cells": [
    {
      "cell_type": "code",
      "execution_count": 1,
      "metadata": {
        "id": "ZmwfP8QE0wzd"
      },
      "outputs": [],
      "source": [
        "import pandas as pd\n",
        "import numpy as np\n",
        "from sklearn.model_selection import train_test_split\n",
        "from sklearn.preprocessing import StandardScaler, LabelEncoder\n",
        "import os"
      ]
    },
    {
      "cell_type": "code",
      "source": [
        "df = pd.read_csv(\"spotify_churn_dataset.csv\")\n",
        "\n",
        "print(\"=== DATA AWAL ===\")\n",
        "print(\"Jumlah baris dan kolom:\", df.shape)\n",
        "print(df.head())"
      ],
      "metadata": {
        "colab": {
          "base_uri": "https://localhost:8080/"
        },
        "id": "MMvjXLqx0yeK",
        "outputId": "bcd12ff5-5c63-4088-dd74-62cb881dfdc0"
      },
      "execution_count": 2,
      "outputs": [
        {
          "output_type": "stream",
          "name": "stdout",
          "text": [
            "=== DATA AWAL ===\n",
            "Jumlah baris dan kolom: (8000, 12)\n",
            "   user_id  gender  age country subscription_type  listening_time  \\\n",
            "0        1  Female   54      CA              Free              26   \n",
            "1        2   Other   33      DE            Family             141   \n",
            "2        3    Male   38      AU           Premium             199   \n",
            "3        4  Female   22      CA           Student              36   \n",
            "4        5   Other   29      US            Family             250   \n",
            "\n",
            "   songs_played_per_day  skip_rate device_type  ads_listened_per_week  \\\n",
            "0                    23       0.20     Desktop                     31   \n",
            "1                    62       0.34         Web                      0   \n",
            "2                    38       0.04      Mobile                      0   \n",
            "3                     2       0.31      Mobile                      0   \n",
            "4                    57       0.36      Mobile                      0   \n",
            "\n",
            "   offline_listening  is_churned  \n",
            "0                  0           1  \n",
            "1                  1           0  \n",
            "2                  1           1  \n",
            "3                  1           0  \n",
            "4                  1           1  \n"
          ]
        }
      ]
    },
    {
      "cell_type": "code",
      "source": [
        "print(\"\\n=== CEK MISSING VALUE ===\")\n",
        "print(df.isnull().sum())"
      ],
      "metadata": {
        "colab": {
          "base_uri": "https://localhost:8080/"
        },
        "id": "XUVrJSXn0-lz",
        "outputId": "0cc0c669-a07e-4cb3-b857-9a8b5ab3b272"
      },
      "execution_count": 3,
      "outputs": [
        {
          "output_type": "stream",
          "name": "stdout",
          "text": [
            "\n",
            "=== CEK MISSING VALUE ===\n",
            "user_id                  0\n",
            "gender                   0\n",
            "age                      0\n",
            "country                  0\n",
            "subscription_type        0\n",
            "listening_time           0\n",
            "songs_played_per_day     0\n",
            "skip_rate                0\n",
            "device_type              0\n",
            "ads_listened_per_week    0\n",
            "offline_listening        0\n",
            "is_churned               0\n",
            "dtype: int64\n"
          ]
        }
      ]
    },
    {
      "cell_type": "code",
      "source": [
        "num_cols = df.select_dtypes(include=[np.number]).columns\n",
        "cat_cols = df.select_dtypes(exclude=[np.number]).columns\n",
        "for col in num_cols:\n",
        "    if df[col].isnull().sum() > 0:\n",
        "        df[col].fillna(df[col].median(), inplace=True)\n",
        "\n",
        "for col in cat_cols:\n",
        "    if df[col].isnull().sum() > 0:\n",
        "        df[col].fillna(df[col].mode()[0], inplace=True)"
      ],
      "metadata": {
        "id": "FprUIzlZ1BOs"
      },
      "execution_count": 6,
      "outputs": []
    },
    {
      "cell_type": "code",
      "source": [
        "print(\"\\n=== DUPLICATE DATA ===\")\n",
        "print(\"Jumlah data duplikat:\", df.duplicated().sum())\n",
        "df.drop_duplicates(inplace=True)"
      ],
      "metadata": {
        "colab": {
          "base_uri": "https://localhost:8080/"
        },
        "id": "V0z3qn_k1EBH",
        "outputId": "3665f27f-d06c-4f75-b634-cd3faa4baaae"
      },
      "execution_count": 7,
      "outputs": [
        {
          "output_type": "stream",
          "name": "stdout",
          "text": [
            "\n",
            "=== DUPLICATE DATA ===\n",
            "Jumlah data duplikat: 0\n"
          ]
        }
      ]
    },
    {
      "cell_type": "code",
      "source": [
        "print(\"\\n=== HANDLING OUTLIER ===\")\n",
        "for col in num_cols:\n",
        "    Q1 = df[col].quantile(0.25)\n",
        "    Q3 = df[col].quantile(0.75)\n",
        "    IQR = Q3 - Q1\n",
        "    lower = Q1 - 1.5 * IQR\n",
        "    upper = Q3 + 1.5 * IQR\n",
        "    df[col] = np.where(df[col] < lower, lower, df[col])\n",
        "    df[col] = np.where(df[col] > upper, upper, df[col])\n",
        "\n",
        "print(\"Selesai menangani outlier.\")"
      ],
      "metadata": {
        "colab": {
          "base_uri": "https://localhost:8080/"
        },
        "id": "zTIM6J_D1JvE",
        "outputId": "2c349fa3-181b-4757-fa71-2ad374469467"
      },
      "execution_count": 8,
      "outputs": [
        {
          "output_type": "stream",
          "name": "stdout",
          "text": [
            "\n",
            "=== HANDLING OUTLIER ===\n",
            "Selesai menangani outlier.\n"
          ]
        }
      ]
    },
    {
      "cell_type": "code",
      "source": [
        "scaler = StandardScaler()\n",
        "df[num_cols] = scaler.fit_transform(df[num_cols])\n",
        "\n",
        "print(\"\\n=== DATASET SETELAH STANDARDISASI ===\")\n",
        "print(df[num_cols].head())"
      ],
      "metadata": {
        "colab": {
          "base_uri": "https://localhost:8080/"
        },
        "id": "t_P3RIe61L_3",
        "outputId": "c0403a86-85cf-47c6-a598-b05309f9b49c"
      },
      "execution_count": 9,
      "outputs": [
        {
          "output_type": "stream",
          "name": "stdout",
          "text": [
            "\n",
            "=== DATASET SETELAH STANDARDISASI ===\n",
            "    user_id       age  listening_time  songs_played_per_day  skip_rate  \\\n",
            "0 -1.731834  1.282452       -1.524434             -0.953574  -0.576827   \n",
            "1 -1.731401 -0.365956       -0.155555              0.417349   0.229702   \n",
            "2 -1.730968  0.026522        0.534836             -0.426296  -1.498575   \n",
            "3 -1.730535 -1.229408       -1.405401             -1.691763   0.056875   \n",
            "4 -1.730102 -0.679939        1.141904              0.241590   0.344921   \n",
            "\n",
            "   ads_listened_per_week  offline_listening  is_churned  \n",
            "0               1.821693          -1.721720    1.692001  \n",
            "1              -0.572735           0.580814   -0.591016  \n",
            "2              -0.572735           0.580814    1.692001  \n",
            "3              -0.572735           0.580814   -0.591016  \n",
            "4              -0.572735           0.580814    1.692001  \n"
          ]
        }
      ]
    },
    {
      "cell_type": "code",
      "source": [
        "label_encoders = {}\n",
        "\n",
        "for col in cat_cols:\n",
        "    if df[col].nunique() <= 10:\n",
        "        df = pd.get_dummies(df, columns=[col], drop_first=True)\n",
        "    else:\n",
        "        le = LabelEncoder()\n",
        "        df[col] = le.fit_transform(df[col])\n",
        "        label_encoders[col] = le\n",
        "\n",
        "print(\"\\n=== DATASET SETELAH ENCODING ===\")\n",
        "print(df.head())"
      ],
      "metadata": {
        "colab": {
          "base_uri": "https://localhost:8080/"
        },
        "id": "BLlyjYRF1QOo",
        "outputId": "3be742f5-a0d6-4ab2-90a8-03e0affbefcc"
      },
      "execution_count": 10,
      "outputs": [
        {
          "output_type": "stream",
          "name": "stdout",
          "text": [
            "\n",
            "=== DATASET SETELAH ENCODING ===\n",
            "    user_id       age  listening_time  songs_played_per_day  skip_rate  \\\n",
            "0 -1.731834  1.282452       -1.524434             -0.953574  -0.576827   \n",
            "1 -1.731401 -0.365956       -0.155555              0.417349   0.229702   \n",
            "2 -1.730968  0.026522        0.534836             -0.426296  -1.498575   \n",
            "3 -1.730535 -1.229408       -1.405401             -1.691763   0.056875   \n",
            "4 -1.730102 -0.679939        1.141904              0.241590   0.344921   \n",
            "\n",
            "   ads_listened_per_week  offline_listening  is_churned  gender_Male  \\\n",
            "0               1.821693          -1.721720    1.692001        False   \n",
            "1              -0.572735           0.580814   -0.591016        False   \n",
            "2              -0.572735           0.580814    1.692001         True   \n",
            "3              -0.572735           0.580814   -0.591016        False   \n",
            "4              -0.572735           0.580814    1.692001        False   \n",
            "\n",
            "   gender_Other  ...  country_FR  country_IN  country_PK  country_UK  \\\n",
            "0         False  ...       False       False       False       False   \n",
            "1          True  ...       False       False       False       False   \n",
            "2         False  ...       False       False       False       False   \n",
            "3         False  ...       False       False       False       False   \n",
            "4          True  ...       False       False       False       False   \n",
            "\n",
            "   country_US  subscription_type_Free  subscription_type_Premium  \\\n",
            "0       False                    True                      False   \n",
            "1       False                   False                      False   \n",
            "2       False                   False                       True   \n",
            "3       False                   False                      False   \n",
            "4        True                   False                      False   \n",
            "\n",
            "   subscription_type_Student  device_type_Mobile  device_type_Web  \n",
            "0                      False               False            False  \n",
            "1                      False               False             True  \n",
            "2                      False                True            False  \n",
            "3                       True                True            False  \n",
            "4                      False                True            False  \n",
            "\n",
            "[5 rows x 22 columns]\n"
          ]
        }
      ]
    },
    {
      "cell_type": "code",
      "source": [
        "if {'songs_played_per_day', 'listening_time'}.issubset(df.columns):\n",
        "    df['efficiency_ratio'] = df['songs_played_per_day'] / (df['listening_time'] + 1)\n",
        "    print(\"\\nFitur baru 'efficiency_ratio' berhasil ditambahkan.\")\n",
        "else:\n",
        "    # Jika kolom tersebut tidak ada, buat fitur interaksi sederhana\n",
        "    df['interaction_feat'] = df[num_cols[0]] * df[num_cols[1]]\n",
        "    print(\"\\nFitur baru 'interaction_feat' berhasil ditambahkan.\")"
      ],
      "metadata": {
        "colab": {
          "base_uri": "https://localhost:8080/"
        },
        "id": "AElOPBlB1RWE",
        "outputId": "02ef962e-e856-4ba5-f523-3630417f9fd3"
      },
      "execution_count": 11,
      "outputs": [
        {
          "output_type": "stream",
          "name": "stdout",
          "text": [
            "\n",
            "Fitur baru 'efficiency_ratio' berhasil ditambahkan.\n"
          ]
        }
      ]
    },
    {
      "cell_type": "code",
      "source": [
        "target_col = 'is_churned' if 'is_churned' in df.columns else df.columns[-1]"
      ],
      "metadata": {
        "id": "PYlEOwh61To1"
      },
      "execution_count": 12,
      "outputs": []
    },
    {
      "cell_type": "code",
      "source": [
        "X = df.drop(columns=[target_col])\n",
        "y = df[target_col]\n",
        "\n",
        "X_train, X_test, y_train, y_test = train_test_split(\n",
        "    X, y, test_size=0.2, random_state=42, stratify=y\n",
        ")\n",
        "\n",
        "print(\"\\n=== HASIL SPLIT ===\")\n",
        "print(\"Data Train:\", X_train.shape)\n",
        "print(\"Data Test :\", X_test.shape)\n"
      ],
      "metadata": {
        "colab": {
          "base_uri": "https://localhost:8080/"
        },
        "id": "vT4cjg031Vhu",
        "outputId": "d6bb7034-c8df-4615-863a-6859d94c19c3"
      },
      "execution_count": 13,
      "outputs": [
        {
          "output_type": "stream",
          "name": "stdout",
          "text": [
            "\n",
            "=== HASIL SPLIT ===\n",
            "Data Train: (6400, 22)\n",
            "Data Test : (1600, 22)\n"
          ]
        }
      ]
    },
    {
      "cell_type": "code",
      "source": [
        "train_data = pd.concat([X_train, y_train], axis=1)\n",
        "test_data = pd.concat([X_test, y_test], axis=1)"
      ],
      "metadata": {
        "id": "IgXqu1xd1bXH"
      },
      "execution_count": 14,
      "outputs": []
    },
    {
      "cell_type": "code",
      "source": [
        "output_dir = \"processed_data\"\n",
        "os.makedirs(output_dir, exist_ok=True)\n",
        "\n",
        "train_data.to_csv(f\"{output_dir}/train_processed.csv\", index=False)\n",
        "test_data.to_csv(f\"{output_dir}/test_processed.csv\", index=False)\n",
        "df.to_csv(f\"{output_dir}/full_processed.csv\", index=False)\n",
        "\n",
        "print(\"\\nFile hasil preprocessing tersimpan di folder:\", output_dir)\n",
        "print(\"Berikut file yang disimpan:\")\n",
        "print(\"- train_processed.csv\")\n",
        "print(\"- test_processed.csv\")\n",
        "print(\"- full_processed.csv\")"
      ],
      "metadata": {
        "colab": {
          "base_uri": "https://localhost:8080/"
        },
        "id": "2Ad8akqm1cl6",
        "outputId": "521c8061-179d-4a5e-d22a-20c5e5e54b75"
      },
      "execution_count": 15,
      "outputs": [
        {
          "output_type": "stream",
          "name": "stdout",
          "text": [
            "\n",
            "File hasil preprocessing tersimpan di folder: processed_data\n",
            "Berikut file yang disimpan:\n",
            "- train_processed.csv\n",
            "- test_processed.csv\n",
            "- full_processed.csv\n"
          ]
        }
      ]
    }
  ]
}